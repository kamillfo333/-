{
  "nbformat": 4,
  "nbformat_minor": 0,
  "metadata": {
    "colab": {
      "provenance": [],
      "include_colab_link": true
    },
    "kernelspec": {
      "name": "python3",
      "display_name": "Python 3"
    },
    "language_info": {
      "name": "python"
    }
  },
  "cells": [
    {
      "cell_type": "markdown",
      "metadata": {
        "id": "view-in-github",
        "colab_type": "text"
      },
      "source": [
        "<a href=\"https://colab.research.google.com/github/kamillfo333/LLL/blob/main/firstLec.ipynb\" target=\"_parent\"><img src=\"https://colab.research.google.com/assets/colab-badge.svg\" alt=\"Open In Colab\"/></a>"
      ]
    },
    {
      "cell_type": "markdown",
      "source": [
        "Numpy Basic 5"
      ],
      "metadata": {
        "id": "KowYr_EGpQQM"
      }
    },
    {
      "cell_type": "code",
      "source": [
        "import numpy as np\n",
        "a = np.array([1, 0, np.nan, np.inf])\n",
        "print(\"Оригинальный массив\")\n",
        "print(a)\n",
        "print(\"Проверьте заданный массив поэлементно на конечность :\")\n",
        "print(np.isfinite(a))"
      ],
      "metadata": {
        "id": "vHHGmROCpSb9",
        "outputId": "b12a4da5-447f-40ae-df29-a0f3df8bdcc6",
        "colab": {
          "base_uri": "https://localhost:8080/"
        }
      },
      "execution_count": null,
      "outputs": [
        {
          "output_type": "stream",
          "name": "stdout",
          "text": [
            "Оригинальный массив\n",
            "[ 1.  0. nan inf]\n",
            "Проверьте заданный массив поэлементно на конечность :\n",
            "[ True  True False False]\n"
          ]
        }
      ]
    },
    {
      "cell_type": "markdown",
      "source": [
        "15"
      ],
      "metadata": {
        "id": "yv1I-g3xpvzz"
      }
    },
    {
      "cell_type": "code",
      "source": [
        "import numpy as np\n",
        "array=np.arange(30,71,2)\n",
        "print(\"Массив всех четных целых чисел от 30 до 70\")\n",
        "print(array) "
      ],
      "metadata": {
        "id": "fNYcostNpwt7",
        "outputId": "a0c3b9d5-a757-4999-8c39-a026685263ba",
        "colab": {
          "base_uri": "https://localhost:8080/"
        }
      },
      "execution_count": null,
      "outputs": [
        {
          "output_type": "stream",
          "name": "stdout",
          "text": [
            "Массив всех четных целых чисел от 30 до 70\n",
            "[30 32 34 36 38 40 42 44 46 48 50 52 54 56 58 60 62 64 66 68 70]\n"
          ]
        }
      ]
    },
    {
      "cell_type": "markdown",
      "source": [
        "25"
      ],
      "metadata": {
        "id": "8Ncivq7MqF56"
      }
    },
    {
      "cell_type": "code",
      "source": [
        "import numpy as np\n",
        "m= np.arange(10,22).reshape((3, 4))\n",
        "print(m)"
      ],
      "metadata": {
        "id": "ySmK1QXaqGya",
        "outputId": "2458df6a-e6db-43e3-9eca-8331499023cb",
        "colab": {
          "base_uri": "https://localhost:8080/"
        }
      },
      "execution_count": null,
      "outputs": [
        {
          "output_type": "stream",
          "name": "stdout",
          "text": [
            "[[10 11 12 13]\n",
            " [14 15 16 17]\n",
            " [18 19 20 21]]\n"
          ]
        }
      ]
    },
    {
      "cell_type": "markdown",
      "source": [
        "35"
      ],
      "metadata": {
        "id": "4sH8-U9KqTZh"
      }
    },
    {
      "cell_type": "code",
      "source": [
        "import numpy as np\n",
        "import os\n",
        "a = np.arange(20)\n",
        "np.save('temp_arra.npy', a)\n",
        "print(\" Проверьте, существует ли temp_arra.npy или нет?\")\n",
        "if os.path.exists('temp_arra.npy'):\n",
        "    x2 = np.load('temp_arra.npy')\n",
        "    print(np.array_equal(a, x2))"
      ],
      "metadata": {
        "id": "vP7QkMvaqUU5",
        "outputId": "f56b0e45-f695-41fc-9d23-35c536919636",
        "colab": {
          "base_uri": "https://localhost:8080/"
        }
      },
      "execution_count": null,
      "outputs": [
        {
          "output_type": "stream",
          "name": "stdout",
          "text": [
            " Проверьте, существует ли temp_arra.npy или нет?\n",
            "True\n"
          ]
        }
      ]
    },
    {
      "cell_type": "markdown",
      "source": [
        "NumPy: упражнения с массивом\n",
        "5"
      ],
      "metadata": {
        "id": "5TIRrmT9qha7"
      }
    },
    {
      "cell_type": "code",
      "source": [
        "import numpy as np\n",
        "x = np.arange(12, 38)\n",
        "print(x)"
      ],
      "metadata": {
        "id": "w3cv5zNMqqqZ",
        "colab": {
          "base_uri": "https://localhost:8080/"
        },
        "outputId": "8d193c69-81f0-4ff3-ce7a-5886e7e3dc49"
      },
      "execution_count": 1,
      "outputs": [
        {
          "output_type": "stream",
          "name": "stdout",
          "text": [
            "[12 13 14 15 16 17 18 19 20 21 22 23 24 25 26 27 28 29 30 31 32 33 34 35\n",
            " 36 37]\n"
          ]
        }
      ]
    },
    {
      "cell_type": "markdown",
      "source": [
        "15"
      ],
      "metadata": {
        "id": "dC0P2CJ97e8t"
      }
    },
    {
      "cell_type": "code",
      "source": [
        "import numpy as np\n",
        "x = np.sqrt([1+0j])\n",
        "y = np.sqrt([0+1j])\n",
        "print(\"Исходный массив:x \",x)\n",
        "print(\"Исходный массив:y \",y)\n",
        "print(\"Реальная часть массива:\")\n",
        "print(x.real)\n",
        "print(y.real)\n",
        "print(\"Мнимая часть массива:\")\n",
        "print(x.imag)\n",
        "print(y.imag)"
      ],
      "metadata": {
        "colab": {
          "base_uri": "https://localhost:8080/"
        },
        "id": "9A2dDW7i7fyM",
        "outputId": "181eab93-7964-420b-b0a6-2ae17ddea961"
      },
      "execution_count": 2,
      "outputs": [
        {
          "output_type": "stream",
          "name": "stdout",
          "text": [
            "Исходный массив:x  [1.+0.j]\n",
            "Исходный массив:y  [0.70710678+0.70710678j]\n",
            "Реальная часть массива:\n",
            "[1.]\n",
            "[0.70710678]\n",
            "Мнимая часть массива:\n",
            "[0.]\n",
            "[0.70710678]\n"
          ]
        }
      ]
    },
    {
      "cell_type": "markdown",
      "source": [
        "25"
      ],
      "metadata": {
        "id": "zE84bifU7z4b"
      }
    },
    {
      "cell_type": "code",
      "source": [
        "import numpy as np\n",
        "a = [1, 2, 3, 4]\n",
        "print(\"Оригинальный массив \")\n",
        "print(a)\n",
        "print(\"Повторяя 2 раза \")\n",
        "x = np.tile(a, 2)\n",
        "print(x)\n",
        "print(\"Повторяя 3 раза \")\n",
        "x = np.tile(a, 3)\n",
        "print(x)"
      ],
      "metadata": {
        "colab": {
          "base_uri": "https://localhost:8080/"
        },
        "id": "NjRqZY7G70oP",
        "outputId": "699f051a-6005-495d-d1a8-93b599828a00"
      },
      "execution_count": 3,
      "outputs": [
        {
          "output_type": "stream",
          "name": "stdout",
          "text": [
            "Оригинальный массив \n",
            "[1, 2, 3, 4]\n",
            "Повторяя 2 раза \n",
            "[1 2 3 4 1 2 3 4]\n",
            "Повторяя 3 раза \n",
            "[1 2 3 4 1 2 3 4 1 2 3 4]\n"
          ]
        }
      ]
    },
    {
      "cell_type": "markdown",
      "source": [
        "35"
      ],
      "metadata": {
        "id": "Z6pElYlJ8D6a"
      }
    },
    {
      "cell_type": "code",
      "source": [
        "import numpy as np\n",
        "x = np.array([1, 2, 3, 4, 5, 6])\n",
        "print(\"6 строк и 0 столбцов \")\n",
        "print(x.shape)\n",
        "y = np.array([[1, 2, 3],[4, 5, 6],[7,8,9]])\n",
        "print(\"(3, 3) -> 3 строки и 3 столбца \")\n",
        "print(y)\n",
        "x = np.array([1,2,3,4,5,6,7,8,9])\n",
        "print(\"Изменить форму массива на (3, 3) -> 3 строки и 3 столбца  \")\n",
        "x.shape = (3, 3)\n",
        "print(x)"
      ],
      "metadata": {
        "colab": {
          "base_uri": "https://localhost:8080/"
        },
        "id": "o95PucXp8E8S",
        "outputId": "3cf624dc-7056-4edc-dc41-c630c3006fbf"
      },
      "execution_count": 4,
      "outputs": [
        {
          "output_type": "stream",
          "name": "stdout",
          "text": [
            "6 строк и 0 столбцов \n",
            "(6,)\n",
            "(3, 3) -> 3 строки и 3 столбца \n",
            "[[1 2 3]\n",
            " [4 5 6]\n",
            " [7 8 9]]\n",
            "Изменить форму массива на (3, 3) -> 3 строки и 3 столбца  \n",
            "[[1 2 3]\n",
            " [4 5 6]\n",
            " [7 8 9]]\n"
          ]
        }
      ]
    },
    {
      "cell_type": "markdown",
      "source": [
        "45"
      ],
      "metadata": {
        "id": "5cspKFUI8cHm"
      }
    },
    {
      "cell_type": "code",
      "source": [
        "import numpy as np\n",
        "x = np.linspace(2.5, 6.5, 30)\n",
        "print(x)"
      ],
      "metadata": {
        "colab": {
          "base_uri": "https://localhost:8080/"
        },
        "id": "jQBZK6Hx8cvt",
        "outputId": "1d04315d-e9e3-4f50-95dd-c9d4220d4477"
      },
      "execution_count": 5,
      "outputs": [
        {
          "output_type": "stream",
          "name": "stdout",
          "text": [
            "[2.5        2.63793103 2.77586207 2.9137931  3.05172414 3.18965517\n",
            " 3.32758621 3.46551724 3.60344828 3.74137931 3.87931034 4.01724138\n",
            " 4.15517241 4.29310345 4.43103448 4.56896552 4.70689655 4.84482759\n",
            " 4.98275862 5.12068966 5.25862069 5.39655172 5.53448276 5.67241379\n",
            " 5.81034483 5.94827586 6.0862069  6.22413793 6.36206897 6.5       ]\n"
          ]
        }
      ]
    },
    {
      "cell_type": "markdown",
      "source": [
        "55"
      ],
      "metadata": {
        "id": "hMND7iTz8muw"
      }
    },
    {
      "cell_type": "code",
      "source": [
        "import numpy as np\n",
        "x = 10\n",
        "print(\"Просматривайте входные данные как массивы как минимум с двумя измерениями:\")\n",
        "print(np.atleast_1d(x))\n",
        "x = np.arange(4.0).reshape(2, 2)\n",
        "print(np.atleast_1d(x))\n",
        "print(\"Просматривайте входные данные как массивы как минимум с тремя измерениями:\")\n",
        "x =15\n",
        "print(np.atleast_3d(x))\n",
        "x = np.arange(3.0)\n",
        "print(np.atleast_3d(x))"
      ],
      "metadata": {
        "colab": {
          "base_uri": "https://localhost:8080/"
        },
        "id": "Kzp-7LKI8nO5",
        "outputId": "146a523e-fa27-4445-ae61-74d5e70c4dc9"
      },
      "execution_count": 6,
      "outputs": [
        {
          "output_type": "stream",
          "name": "stdout",
          "text": [
            "Просматривайте входные данные как массивы как минимум с двумя измерениями:\n",
            "[10]\n",
            "[[0. 1.]\n",
            " [2. 3.]]\n",
            "Просматривайте входные данные как массивы как минимум с тремя измерениями:\n",
            "[[[15]]]\n",
            "[[[0.]\n",
            "  [1.]\n",
            "  [2.]]]\n"
          ]
        }
      ]
    },
    {
      "cell_type": "markdown",
      "source": [
        "65"
      ],
      "metadata": {
        "id": "0NoJ4KC38v0B"
      }
    },
    {
      "cell_type": "code",
      "source": [
        "import numpy as np\n",
        "x = np.array([[1.12, 2.0, 3.45], [2.33, 5.12, 6.0]], float) \n",
        "print(\"Original array:\")\n",
        "print(x)\n",
        "print(2 in x)\n",
        "print(0 in x)\n",
        "print(6 in x)\n",
        "print(2.3 in x)\n",
        "print(5.12 in x)"
      ],
      "metadata": {
        "colab": {
          "base_uri": "https://localhost:8080/"
        },
        "id": "GArsXpqk8wr7",
        "outputId": "c3de52fc-886a-4b41-a6db-dc59e9b3ce20"
      },
      "execution_count": 7,
      "outputs": [
        {
          "output_type": "stream",
          "name": "stdout",
          "text": [
            "Original array:\n",
            "[[1.12 2.   3.45]\n",
            " [2.33 5.12 6.  ]]\n",
            "True\n",
            "False\n",
            "True\n",
            "False\n",
            "True\n"
          ]
        }
      ]
    },
    {
      "cell_type": "markdown",
      "source": [
        "75"
      ],
      "metadata": {
        "id": "-PEc-G3H9BJD"
      }
    },
    {
      "cell_type": "code",
      "source": [
        "import numpy as np\n",
        "x = np.zeros((3,), dtype=('i4,f4,a40'))\n",
        "new_data = [(1, 2., \"Albert Einstein\"), (2, 2., \"Edmond Halley\"), (3, 3., \"Gertrude B. Elion\")]\n",
        "x[:] = new_data\n",
        "print(x)\n"
      ],
      "metadata": {
        "colab": {
          "base_uri": "https://localhost:8080/"
        },
        "id": "E0CVAUay9pTp",
        "outputId": "09eab334-2579-4802-a20c-14368d22fb7c"
      },
      "execution_count": 11,
      "outputs": [
        {
          "output_type": "stream",
          "name": "stdout",
          "text": [
            "[(1, 2., b'Albert Einstein') (2, 2., b'Edmond Halley')\n",
            " (3, 3., b'Gertrude B. Elion')]\n"
          ]
        }
      ]
    },
    {
      "cell_type": "markdown",
      "source": [
        "85"
      ],
      "metadata": {
        "id": "PPR6A_EY9uii"
      }
    },
    {
      "cell_type": "code",
      "source": [
        "import numpy as np\n",
        "x = np.array([[10,20,30], [40,50,60]])\n",
        "y = np.array([[100], [200]])\n",
        "print(np.append(x, y, axis=1))"
      ],
      "metadata": {
        "colab": {
          "base_uri": "https://localhost:8080/"
        },
        "id": "KVljn1Vq9_JZ",
        "outputId": "851628bb-2092-4224-abe4-1d4cdff5e717"
      },
      "execution_count": 16,
      "outputs": [
        {
          "output_type": "stream",
          "name": "stdout",
          "text": [
            "[[ 10  20  30 100]\n",
            " [ 40  50  60 200]]\n"
          ]
        }
      ]
    },
    {
      "cell_type": "markdown",
      "source": [
        "95"
      ],
      "metadata": {
        "id": "8c_qG9zJ-BEJ"
      }
    },
    {
      "cell_type": "code",
      "source": [
        "import numpy as np\n",
        "x = np.array([2, 3])\n",
        "y = np.array([])\n",
        "# size 2, array is not empty\n",
        "print(x.size)\n",
        "# size 0, array is empty\n",
        "print(y.size)"
      ],
      "metadata": {
        "colab": {
          "base_uri": "https://localhost:8080/"
        },
        "id": "nOBlSwYy-Bx5",
        "outputId": "5e3c38c0-78b5-4b59-c1c0-f7e9e8d07aa1"
      },
      "execution_count": 17,
      "outputs": [
        {
          "output_type": "stream",
          "name": "stdout",
          "text": [
            "2\n",
            "0\n"
          ]
        }
      ]
    },
    {
      "cell_type": "markdown",
      "source": [
        "105"
      ],
      "metadata": {
        "id": "uEJxdGHy-N-R"
      }
    },
    {
      "cell_type": "code",
      "source": [
        "import numpy as np\n",
        "nums = np.array([10, 20, 20, 20, 20, 0, 20, 30, 30, 30, 0, 0, 20, 20, 0])\n",
        "print(\"Original array:\")\n",
        "print(nums)\n",
        "print(np.count_nonzero(nums == 10))\n",
        "print(np.count_nonzero(nums == 20))\n",
        "print(np.count_nonzero(nums == 30))\n",
        "print(np.count_nonzero(nums == 0))"
      ],
      "metadata": {
        "colab": {
          "base_uri": "https://localhost:8080/"
        },
        "id": "PpcRk9bC-V8o",
        "outputId": "0cb5fb22-dfad-48db-9fe5-a9380084b5f3"
      },
      "execution_count": 19,
      "outputs": [
        {
          "output_type": "stream",
          "name": "stdout",
          "text": [
            "Original array:\n",
            "[10 20 20 20 20  0 20 30 30 30  0  0 20 20  0]\n",
            "1\n",
            "7\n",
            "3\n",
            "4\n"
          ]
        }
      ]
    },
    {
      "cell_type": "markdown",
      "source": [
        "115"
      ],
      "metadata": {
        "id": "a4TDQW_M-baR"
      }
    },
    {
      "cell_type": "code",
      "source": [
        "import numpy as np\n",
        "nums = np.array([1,0,2,0,3,0,4,5,6,7,8])\n",
        "print(\" Исходный массив:\")\n",
        "print(nums)\n",
        "print(\"Индексы элементов равны нулю указанного массива:\")\n",
        "result = np.where(nums == 0)[0]\n",
        "print(result)"
      ],
      "metadata": {
        "colab": {
          "base_uri": "https://localhost:8080/"
        },
        "id": "gQusqEiv-gAI",
        "outputId": "1d98d269-fad7-47d4-c6a9-7d3d0697020a"
      },
      "execution_count": 21,
      "outputs": [
        {
          "output_type": "stream",
          "name": "stdout",
          "text": [
            " Исходный массив:\n",
            "[1 0 2 0 3 0 4 5 6 7 8]\n",
            "Индексы элементов равны нулю указанного массива:\n",
            "[1 3 5]\n"
          ]
        }
      ]
    },
    {
      "cell_type": "markdown",
      "source": [
        "125"
      ],
      "metadata": {
        "id": "Y0lxcHRk-qAA"
      }
    },
    {
      "cell_type": "code",
      "source": [
        "import numpy as np    \n",
        "p = np.array([[0], [10], [20]]) \n",
        "q= np.array([10, 11, 12]) \n",
        "print(\"Оригинальные массивы:\")\n",
        "print(\"Массив-1\")\n",
        "print(p)\n",
        "print(\"Массив-2\")\n",
        "print(q)\n",
        "print(\"Новый массив:\")\n",
        "new_array1 = p + q \n",
        "print(new_array1)"
      ],
      "metadata": {
        "colab": {
          "base_uri": "https://localhost:8080/"
        },
        "id": "pkBHeQm4-q5A",
        "outputId": "ade730d5-eac2-4332-eae7-70a868d85d08"
      },
      "execution_count": 23,
      "outputs": [
        {
          "output_type": "stream",
          "name": "stdout",
          "text": [
            "Оригинальные массивы:\n",
            "Массив-1\n",
            "[[ 0]\n",
            " [10]\n",
            " [20]]\n",
            "Массив-2\n",
            "[10 11 12]\n",
            "Новый массив:\n",
            "[[10 11 12]\n",
            " [20 21 22]\n",
            " [30 31 32]]\n"
          ]
        }
      ]
    },
    {
      "cell_type": "markdown",
      "source": [
        "135"
      ],
      "metadata": {
        "id": "K11zlYiC_GFQ"
      }
    },
    {
      "cell_type": "code",
      "source": [
        "import numpy as np\n",
        "arra_data = np.arange(0,16).reshape((4, 4))\n",
        "print(\" Исходный массив:\")\n",
        "print(arra_data)\n",
        "print(\"Извлеченные данные: второй ряд\")\n",
        "print(arra_data[1,:])"
      ],
      "metadata": {
        "colab": {
          "base_uri": "https://localhost:8080/"
        },
        "id": "UIXS2NA0_G43",
        "outputId": "156276ac-02c9-4521-c1a2-2c9a9406ec05"
      },
      "execution_count": 24,
      "outputs": [
        {
          "output_type": "stream",
          "name": "stdout",
          "text": [
            " Исходный массив:\n",
            "[[ 0  1  2  3]\n",
            " [ 4  5  6  7]\n",
            " [ 8  9 10 11]\n",
            " [12 13 14 15]]\n",
            "Извлеченные данные: второй ряд\n",
            "[4 5 6 7]\n"
          ]
        }
      ]
    },
    {
      "cell_type": "markdown",
      "source": [
        "145"
      ],
      "metadata": {
        "id": "j6b01nWO_R6X"
      }
    },
    {
      "cell_type": "code",
      "source": [
        "import numpy as np\n",
        "arra_data = np.arange(0,36).reshape((6, 6))\n",
        "print(\"Исходный массив:\")\n",
        "print(arra_data)\n",
        "print(\"Извлеченные данные: первый, третий и пятый элементы третьего и пятого рядов\")\n",
        "print(arra_data[2::2, ::2]) "
      ],
      "metadata": {
        "colab": {
          "base_uri": "https://localhost:8080/"
        },
        "id": "UNGDdWt__Sj_",
        "outputId": "4e3abbee-bde0-4793-8c38-10f896511f31"
      },
      "execution_count": 25,
      "outputs": [
        {
          "output_type": "stream",
          "name": "stdout",
          "text": [
            "Исходный массив:\n",
            "[[ 0  1  2  3  4  5]\n",
            " [ 6  7  8  9 10 11]\n",
            " [12 13 14 15 16 17]\n",
            " [18 19 20 21 22 23]\n",
            " [24 25 26 27 28 29]\n",
            " [30 31 32 33 34 35]]\n",
            "Извлеченные данные: первый, третий и пятый элементы третьего и пятого рядов\n",
            "[[12 14 16]\n",
            " [24 26 28]]\n"
          ]
        }
      ]
    },
    {
      "cell_type": "markdown",
      "source": [
        "155"
      ],
      "metadata": {
        "id": "Mn8mRPmL_djH"
      }
    },
    {
      "cell_type": "code",
      "source": [
        "import numpy as np\n",
        "num = np.arange(20)\n",
        "arr1 = np.reshape(num, [4, 5])\n",
        "print(\" Исходный массив:\")\n",
        "print(arr1)\n",
        "print([0, 1, 2, 3, 4] in arr1.tolist())\n",
        "print([0, 1, 2, 3, 5] in arr1.tolist())\n",
        "print([15, 16, 17, 18, 19] in arr1.tolist())"
      ],
      "metadata": {
        "colab": {
          "base_uri": "https://localhost:8080/"
        },
        "id": "PCkL6Vo6_eO3",
        "outputId": "6956c569-70a5-433a-b3e9-8c7b6f99e6f2"
      },
      "execution_count": 26,
      "outputs": [
        {
          "output_type": "stream",
          "name": "stdout",
          "text": [
            " Исходный массив:\n",
            "[[ 0  1  2  3  4]\n",
            " [ 5  6  7  8  9]\n",
            " [10 11 12 13 14]\n",
            " [15 16 17 18 19]]\n",
            "True\n",
            "False\n",
            "True\n"
          ]
        }
      ]
    },
    {
      "cell_type": "markdown",
      "source": [
        "Линейная алгебра"
      ],
      "metadata": {
        "id": "Nducjut2_tpe"
      }
    },
    {
      "cell_type": "markdown",
      "source": [
        "5"
      ],
      "metadata": {
        "id": "WVzwBILs_xiA"
      }
    },
    {
      "cell_type": "code",
      "source": [
        "import numpy as np\n",
        "a = np.array([1,2,3])\n",
        "b = np.array([0,1,0])\n",
        "print(\" Оригинальные 1-й массивы:\")\n",
        "print(a)\n",
        "print(b)\n",
        "result =  np.einsum(\"n,n\", a, b)\n",
        "print(\"Соглашение Эйнштейна о суммировании указанных массивов:\")\n",
        "print(result)\n",
        "x = np.arange(9).reshape(3, 3)\n",
        "y = np.arange(3, 12).reshape(3, 3)\n",
        "print(\"Оригинал Высшее измерение:\")\n",
        "print(x)\n",
        "print(y)\n",
        "result = np.einsum(\"mk,kn\", x, y)\n",
        "print(\"Соглашение Эйнштейна о суммировании указанных массивов:\")\n",
        "print(result)"
      ],
      "metadata": {
        "colab": {
          "base_uri": "https://localhost:8080/"
        },
        "id": "mjrO5w-2_yGX",
        "outputId": "aa38e09b-a7a0-454b-9220-62a2201fe157"
      },
      "execution_count": 27,
      "outputs": [
        {
          "output_type": "stream",
          "name": "stdout",
          "text": [
            " Оригинальные 1-й массивы:\n",
            "[1 2 3]\n",
            "[0 1 0]\n",
            "Соглашение Эйнштейна о суммировании указанных массивов:\n",
            "2\n",
            "Оригинал Высшее измерение:\n",
            "[[0 1 2]\n",
            " [3 4 5]\n",
            " [6 7 8]]\n",
            "[[ 3  4  5]\n",
            " [ 6  7  8]\n",
            " [ 9 10 11]]\n",
            "Соглашение Эйнштейна о суммировании указанных массивов:\n",
            "[[ 24  27  30]\n",
            " [ 78  90 102]\n",
            " [132 153 174]]\n"
          ]
        }
      ]
    },
    {
      "cell_type": "markdown",
      "source": [
        "15"
      ],
      "metadata": {
        "id": "Mkb1UF3-ABAu"
      }
    },
    {
      "cell_type": "code",
      "source": [
        "import numpy as np\n",
        "m = np.arange(6).reshape(2,3)\n",
        "print(\" Исходная матрица:\")\n",
        "print(m)\n",
        "result =  np.trace(m)\n",
        "print(\"Номер условия указанной матрицы:\")\n",
        "print(result)"
      ],
      "metadata": {
        "colab": {
          "base_uri": "https://localhost:8080/"
        },
        "id": "1UYAVvejABoY",
        "outputId": "827e3e0f-999a-46be-a963-07082b977418"
      },
      "execution_count": 28,
      "outputs": [
        {
          "output_type": "stream",
          "name": "stdout",
          "text": [
            " Исходная матрица:\n",
            "[[0 1 2]\n",
            " [3 4 5]]\n",
            "Номер условия указанной матрицы:\n",
            "4\n"
          ]
        }
      ]
    },
    {
      "cell_type": "markdown",
      "source": [
        "Случайные упражнения"
      ],
      "metadata": {
        "id": "DhvXCZMyALZg"
      }
    },
    {
      "cell_type": "markdown",
      "source": [
        "5"
      ],
      "metadata": {
        "id": "Rx5wTUI6ANbX"
      }
    },
    {
      "cell_type": "code",
      "source": [],
      "metadata": {
        "id": "8O1BRizvAOI3"
      },
      "execution_count": null,
      "outputs": []
    }
  ]
}