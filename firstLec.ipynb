{
  "nbformat": 4,
  "nbformat_minor": 0,
  "metadata": {
    "colab": {
      "provenance": [],
      "include_colab_link": true
    },
    "kernelspec": {
      "name": "python3",
      "display_name": "Python 3"
    },
    "language_info": {
      "name": "python"
    }
  },
  "cells": [
    {
      "cell_type": "markdown",
      "metadata": {
        "id": "view-in-github",
        "colab_type": "text"
      },
      "source": [
        "<a href=\"https://colab.research.google.com/github/kamillfo333/LLL/blob/main/firstLec.ipynb\" target=\"_parent\"><img src=\"https://colab.research.google.com/assets/colab-badge.svg\" alt=\"Open In Colab\"/></a>"
      ]
    },
    {
      "cell_type": "markdown",
      "source": [
        "Numpy Basic 5"
      ],
      "metadata": {
        "id": "KowYr_EGpQQM"
      }
    },
    {
      "cell_type": "code",
      "source": [
        "import numpy as np\n",
        "a = np.array([1, 0, np.nan, np.inf])\n",
        "print(\"Оригинальный массив\")\n",
        "print(a)\n",
        "print(\"Проверьте заданный массив поэлементно на конечность :\")\n",
        "print(np.isfinite(a))"
      ],
      "metadata": {
        "id": "vHHGmROCpSb9",
        "outputId": "b12a4da5-447f-40ae-df29-a0f3df8bdcc6",
        "colab": {
          "base_uri": "https://localhost:8080/"
        }
      },
      "execution_count": 10,
      "outputs": [
        {
          "output_type": "stream",
          "name": "stdout",
          "text": [
            "Оригинальный массив\n",
            "[ 1.  0. nan inf]\n",
            "Проверьте заданный массив поэлементно на конечность :\n",
            "[ True  True False False]\n"
          ]
        }
      ]
    },
    {
      "cell_type": "markdown",
      "source": [
        "15"
      ],
      "metadata": {
        "id": "yv1I-g3xpvzz"
      }
    },
    {
      "cell_type": "code",
      "source": [
        "import numpy as np\n",
        "array=np.arange(30,71,2)\n",
        "print(\"Массив всех четных целых чисел от 30 до 70\")\n",
        "print(array) "
      ],
      "metadata": {
        "id": "fNYcostNpwt7",
        "outputId": "a0c3b9d5-a757-4999-8c39-a026685263ba",
        "colab": {
          "base_uri": "https://localhost:8080/"
        }
      },
      "execution_count": 11,
      "outputs": [
        {
          "output_type": "stream",
          "name": "stdout",
          "text": [
            "Массив всех четных целых чисел от 30 до 70\n",
            "[30 32 34 36 38 40 42 44 46 48 50 52 54 56 58 60 62 64 66 68 70]\n"
          ]
        }
      ]
    },
    {
      "cell_type": "markdown",
      "source": [
        "25"
      ],
      "metadata": {
        "id": "8Ncivq7MqF56"
      }
    },
    {
      "cell_type": "code",
      "source": [
        "import numpy as np\n",
        "m= np.arange(10,22).reshape((3, 4))\n",
        "print(m)"
      ],
      "metadata": {
        "id": "ySmK1QXaqGya",
        "outputId": "2458df6a-e6db-43e3-9eca-8331499023cb",
        "colab": {
          "base_uri": "https://localhost:8080/"
        }
      },
      "execution_count": 12,
      "outputs": [
        {
          "output_type": "stream",
          "name": "stdout",
          "text": [
            "[[10 11 12 13]\n",
            " [14 15 16 17]\n",
            " [18 19 20 21]]\n"
          ]
        }
      ]
    },
    {
      "cell_type": "markdown",
      "source": [
        "35"
      ],
      "metadata": {
        "id": "4sH8-U9KqTZh"
      }
    },
    {
      "cell_type": "code",
      "source": [
        "import numpy as np\n",
        "import os\n",
        "a = np.arange(20)\n",
        "np.save('temp_arra.npy', a)\n",
        "print(\" Проверьте, существует ли temp_arra.npy или нет?\")\n",
        "if os.path.exists('temp_arra.npy'):\n",
        "    x2 = np.load('temp_arra.npy')\n",
        "    print(np.array_equal(a, x2))"
      ],
      "metadata": {
        "id": "vP7QkMvaqUU5",
        "outputId": "f56b0e45-f695-41fc-9d23-35c536919636",
        "colab": {
          "base_uri": "https://localhost:8080/"
        }
      },
      "execution_count": 13,
      "outputs": [
        {
          "output_type": "stream",
          "name": "stdout",
          "text": [
            " Проверьте, существует ли temp_arra.npy или нет?\n",
            "True\n"
          ]
        }
      ]
    },
    {
      "cell_type": "markdown",
      "source": [
        "NumPy: упражнения с массивом\n",
        "5"
      ],
      "metadata": {
        "id": "5TIRrmT9qha7"
      }
    },
    {
      "cell_type": "code",
      "source": [],
      "metadata": {
        "id": "w3cv5zNMqqqZ"
      },
      "execution_count": null,
      "outputs": []
    }
  ]
}